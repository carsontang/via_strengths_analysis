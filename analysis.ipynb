{
 "cells": [
  {
   "cell_type": "code",
   "execution_count": 8,
   "metadata": {},
   "outputs": [
    {
     "name": "stdout",
     "output_type": "stream",
     "text": [
      "The autoreload extension is already loaded. To reload it, use:\n",
      "  %reload_ext autoreload\n"
     ]
    }
   ],
   "source": [
    "import csv\n",
    "import scipy\n",
    "import numpy as np\n",
    "from util import (\n",
    "    cognitive_dissonance_score,\n",
    "    Strength,\n",
    "    ONEOFFS_TO_TOKEN,\n",
    "    TOKEN_TO_STRENGTH,\n",
    ")\n",
    "%load_ext autoreload\n",
    "%autoreload 2"
   ]
  },
  {
   "cell_type": "code",
   "execution_count": 15,
   "metadata": {},
   "outputs": [
    {
     "name": "stdout",
     "output_type": "stream",
     "text": [
      "Done\n"
     ]
    }
   ],
   "source": [
    "def map_to_strength(strength_str):\n",
    "    lowercase = strength_str.lower()\n",
    "    if lowercase in ONEOFFS_TO_TOKEN:\n",
    "        token = ONEOFFS_TO_TOKEN[lowercase]\n",
    "    else:\n",
    "        token = lowercase\n",
    "    \n",
    "    return TOKEN_TO_STRENGTH[token]\n",
    "    \n",
    "def preprocess(strengths):\n",
    "    return [map_to_strength(strength_str.strip()) for strength_str in strengths]\n",
    "\n",
    "with open('survey.csv') as csvfile:\n",
    "    reader = csv.reader(csvfile)\n",
    "    user_strengths = {}\n",
    "    for row in reader:\n",
    "        if len(row) != 26:\n",
    "            print(\"{} has issue\".format(row[0]))\n",
    "        name = row[0]\n",
    "        evaluator = row[1]\n",
    "        strengths_in_order = row[2:]\n",
    "        strengths = preprocess(strengths_in_order)\n",
    "#         print(\"{}'s strengths: {}\".format(name, strengths))\n",
    "        \n",
    "print(\"Done\")"
   ]
  },
  {
   "cell_type": "code",
   "execution_count": 81,
   "metadata": {},
   "outputs": [
    {
     "name": "stdout",
     "output_type": "stream",
     "text": [
      "0.10438157954858163\n",
      "4.279596331234476\n"
     ]
    }
   ],
   "source": [
    "firstrow = None\n",
    "secondrow = None\n",
    "thirdrow = None\n",
    "fourthrow = None\n",
    "with open('carson.csv') as csvfile:\n",
    "    reader = csv.reader(csvfile)\n",
    "    for row in reader:\n",
    "        if firstrow is None:\n",
    "            firstrow = row\n",
    "        elif secondrow is None:\n",
    "            secondrow = row\n",
    "        elif thirdrow is None:\n",
    "            thirdrow = row\n",
    "        elif fourthrow is None:\n",
    "            fourthrow = row\n",
    "    \n",
    "\n",
    "self_perception_scores = np.empty(24)\n",
    "for i, token in enumerate(firstrow[2:]):\n",
    "    strength_str = token.strip()\n",
    "    self_perception_scores[TOKEN_TO_STRENGTH[strength_str].value - 1] = i\n",
    "\n",
    "external_perception_scores1 = np.empty(24)\n",
    "for i, token in enumerate(secondrow[2:]):\n",
    "    strength_str = token.strip()\n",
    "    external_perception_scores1[TOKEN_TO_STRENGTH[strength_str].value - 1] = i\n",
    "\n",
    "external_perception_scores2 = np.empty(24)\n",
    "for i, token in enumerate(thirdrow[2:]):\n",
    "    strength_str = token.strip()\n",
    "    external_perception_scores2[TOKEN_TO_STRENGTH[strength_str].value - 1] = i\n",
    "\n",
    "external_perception_scores3 = np.empty(24)\n",
    "for i, token in enumerate(fourthrow[2:]):\n",
    "    strength_str = token.strip()\n",
    "    external_perception_scores3[TOKEN_TO_STRENGTH[strength_str].value - 1] = i\n",
    "\n",
    "external_perception_score = (external_perception_scores1 + external_perception_scores2 + external_perception_scores3)/3.0\n",
    "# print(self_perception_scores)\n",
    "# print(external_perception_scores1)\n",
    "# print(external_perception_scores2)\n",
    "# print(external_perception_scores3)\n",
    "\n",
    "cog_diss = cognitive_dissonance_score(external_perception_score, self_perception_scores)\n",
    "s = scipy.spatial.distance.cosine(external_perception_score, self_perception_scores)\n",
    "print(s)\n",
    "print(cog_diss)"
   ]
  },
  {
   "cell_type": "code",
   "execution_count": 82,
   "metadata": {},
   "outputs": [
    {
     "name": "stdout",
     "output_type": "stream",
     "text": [
      "0.08117483811285842\n",
      "4.279596331234476\n"
     ]
    }
   ],
   "source": [
    "firstrow = None\n",
    "secondrow = None\n",
    "thirdrow = None\n",
    "fourthrow = None\n",
    "with open('jessica.csv') as csvfile:\n",
    "    reader = csv.reader(csvfile)\n",
    "    for row in reader:\n",
    "        if firstrow is None:\n",
    "            firstrow = row\n",
    "        elif secondrow is None:\n",
    "            secondrow = row\n",
    "        elif thirdrow is None:\n",
    "            thirdrow = row\n",
    "        elif fourthrow is None:\n",
    "            fourthrow = row\n",
    "    \n",
    "\n",
    "self_perception_scores = np.empty(24)\n",
    "for i, token in enumerate(firstrow[2:]):\n",
    "    strength_str = token.strip()\n",
    "    self_perception_scores[TOKEN_TO_STRENGTH[strength_str].value - 1] = i\n",
    "\n",
    "external_perception_scores1 = np.empty(24)\n",
    "for i, token in enumerate(secondrow[2:]):\n",
    "    strength_str = token.strip()\n",
    "    external_perception_scores1[TOKEN_TO_STRENGTH[strength_str].value - 1] = i\n",
    "\n",
    "s = scipy.spatial.distance.cosine(external_perception_scores1, self_perception_scores)\n",
    "print(s)\n",
    "print(cog_diss)"
   ]
  },
  {
   "cell_type": "code",
   "execution_count": 86,
   "metadata": {},
   "outputs": [
    {
     "name": "stdout",
     "output_type": "stream",
     "text": [
      "0.1302035152636447\n",
      "4.279596331234476\n"
     ]
    }
   ],
   "source": [
    "firstrow = None\n",
    "secondrow = None\n",
    "thirdrow = None\n",
    "fourthrow = None\n",
    "with open('anh.csv') as csvfile:\n",
    "    reader = csv.reader(csvfile)\n",
    "    for row in reader:\n",
    "        if firstrow is None:\n",
    "            firstrow = row\n",
    "        elif secondrow is None:\n",
    "            secondrow = row\n",
    "        elif thirdrow is None:\n",
    "            thirdrow = row\n",
    "        elif fourthrow is None:\n",
    "            fourthrow = row\n",
    "    \n",
    "\n",
    "self_perception_scores = np.empty(24)\n",
    "for i, token in enumerate(firstrow[2:]):\n",
    "    strength_str = token.strip()\n",
    "    self_perception_scores[TOKEN_TO_STRENGTH[strength_str].value - 1] = i\n",
    "\n",
    "external_perception_scores1 = np.empty(24)\n",
    "for i, token in enumerate(secondrow[2:]):\n",
    "    strength_str = token.strip()\n",
    "    external_perception_scores1[TOKEN_TO_STRENGTH[strength_str].value - 1] = i\n",
    "\n",
    "s = scipy.spatial.distance.cosine(self_perception_scores, external_perception_scores1)\n",
    "\n",
    "s = scipy.spatial.distance.cosine(external_perception_scores1, self_perception_scores)\n",
    "print(s)\n",
    "print(cog_diss)"
   ]
  }
 ],
 "metadata": {
  "kernelspec": {
   "display_name": "Python [conda env:via_strengths_analysis]",
   "language": "python",
   "name": "conda-env-via_strengths_analysis-py"
  },
  "language_info": {
   "codemirror_mode": {
    "name": "ipython",
    "version": 3
   },
   "file_extension": ".py",
   "mimetype": "text/x-python",
   "name": "python",
   "nbconvert_exporter": "python",
   "pygments_lexer": "ipython3",
   "version": "3.5.6"
  }
 },
 "nbformat": 4,
 "nbformat_minor": 2
}
