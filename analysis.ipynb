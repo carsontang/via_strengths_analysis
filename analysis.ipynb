{
 "cells": [
  {
   "cell_type": "code",
   "execution_count": 20,
   "metadata": {},
   "outputs": [
    {
     "name": "stdout",
     "output_type": "stream",
     "text": [
      "The autoreload extension is already loaded. To reload it, use:\n",
      "  %reload_ext autoreload\n"
     ]
    }
   ],
   "source": [
    "import csv\n",
    "\n",
    "import numpy as np\n",
    "from util import (\n",
    "    cognitive_dissonance_score,\n",
    "    Strength,\n",
    "    TOKEN_TO_STRENGTH\n",
    ")\n",
    "%load_ext autoreload\n",
    "%autoreload 2"
   ]
  },
  {
   "cell_type": "code",
   "execution_count": 72,
   "metadata": {},
   "outputs": [
    {
     "name": "stdout",
     "output_type": "stream",
     "text": [
      "4.279596331234476\n"
     ]
    }
   ],
   "source": [
    "firstrow = None\n",
    "secondrow = None\n",
    "thirdrow = None\n",
    "fourthrow = None\n",
    "with open('carson.csv') as csvfile:\n",
    "    reader = csv.reader(csvfile)\n",
    "    for row in reader:\n",
    "        if firstrow is None:\n",
    "            firstrow = row\n",
    "        elif secondrow is None:\n",
    "            secondrow = row\n",
    "        elif thirdrow is None:\n",
    "            thirdrow = row\n",
    "        elif fourthrow is None:\n",
    "            fourthrow = row\n",
    "    \n",
    "\n",
    "self_perception_scores = np.empty(24)\n",
    "for i, token in enumerate(firstrow[2:]):\n",
    "    strength_str = token.strip()\n",
    "    self_perception_scores[TOKEN_TO_STRENGTH[strength_str].value - 1] = i\n",
    "\n",
    "external_perception_scores1 = np.empty(24)\n",
    "for i, token in enumerate(secondrow[2:]):\n",
    "    strength_str = token.strip()\n",
    "    external_perception_scores1[TOKEN_TO_STRENGTH[strength_str].value - 1] = i\n",
    "\n",
    "external_perception_scores2 = np.empty(24)\n",
    "for i, token in enumerate(thirdrow[2:]):\n",
    "    strength_str = token.strip()\n",
    "    external_perception_scores2[TOKEN_TO_STRENGTH[strength_str].value - 1] = i\n",
    "\n",
    "external_perception_scores3 = np.empty(24)\n",
    "for i, token in enumerate(fourthrow[2:]):\n",
    "    strength_str = token.strip()\n",
    "    external_perception_scores3[TOKEN_TO_STRENGTH[strength_str].value - 1] = i\n",
    "\n",
    "external_perception_score = (external_perception_scores1 + external_perception_scores2 + external_perception_scores3)/3.0\n",
    "# print(self_perception_scores)\n",
    "# print(external_perception_scores1)\n",
    "# print(external_perception_scores2)\n",
    "# print(external_perception_scores3)\n",
    "\n",
    "cog_diss = cognitive_dissonance_score(external_perception_score, self_perception_scores)\n",
    "print(cog_diss)"
   ]
  }
 ],
 "metadata": {
  "kernelspec": {
   "display_name": "Python [conda env:via_strengths_analysis]",
   "language": "python",
   "name": "conda-env-via_strengths_analysis-py"
  },
  "language_info": {
   "codemirror_mode": {
    "name": "ipython",
    "version": 3
   },
   "file_extension": ".py",
   "mimetype": "text/x-python",
   "name": "python",
   "nbconvert_exporter": "python",
   "pygments_lexer": "ipython3",
   "version": "3.5.6"
  }
 },
 "nbformat": 4,
 "nbformat_minor": 2
}
